{
 "cells": [
  {
   "cell_type": "code",
   "execution_count": 1,
   "metadata": {
    "colab": {
     "base_uri": "https://localhost:8080/"
    },
    "executionInfo": {
     "elapsed": 4723,
     "status": "ok",
     "timestamp": 1674874480337,
     "user": {
      "displayName": "Silas Liu",
      "userId": "11566300852536570101"
     },
     "user_tz": 180
    },
    "id": "dGJyCAqBvTya",
    "outputId": "ba4e0815-525e-432c-c147-fb21652733a3"
   },
   "outputs": [
    {
     "name": "stdout",
     "output_type": "stream",
     "text": [
      "Mounted at /content/drive\n"
     ]
    }
   ],
   "source": [
    "from google.colab import drive\n",
    "drive.mount('/content/drive', force_remount=True)"
   ]
  },
  {
   "cell_type": "code",
   "execution_count": 2,
   "metadata": {
    "executionInfo": {
     "elapsed": 2108,
     "status": "ok",
     "timestamp": 1674874482434,
     "user": {
      "displayName": "Silas Liu",
      "userId": "11566300852536570101"
     },
     "user_tz": 180
    },
    "id": "5HmAhrhbwWLj"
   },
   "outputs": [],
   "source": [
    "!cp -R /content/drive/MyDrive/Pokemon_data/df_pk_1.pkl /content\n",
    "!cp /content/drive/MyDrive/Pokemon_data/samples.pkl ./\n",
    "!cp /content/drive/MyDrive/Pokemon_data/Pokemon_matchups_V2.csv ./"
   ]
  },
  {
   "cell_type": "code",
   "execution_count": 44,
   "metadata": {
    "colab": {
     "base_uri": "https://localhost:8080/"
    },
    "executionInfo": {
     "elapsed": 7704,
     "status": "ok",
     "timestamp": 1674874334878,
     "user": {
      "displayName": "Silas Liu",
      "userId": "11566300852536570101"
     },
     "user_tz": 180
    },
    "id": "z3hsp7zZxX7c",
    "outputId": "2a8b7bee-eccd-4749-ea30-b3bfcfbcb037"
   },
   "outputs": [
    {
     "name": "stdout",
     "output_type": "stream",
     "text": [
      "Looking in indexes: https://pypi.org/simple, https://us-python.pkg.dev/colab-wheels/public/simple/\n",
      "Requirement already satisfied: pandas==1.4.3 in /usr/local/lib/python3.8/dist-packages (1.4.3)\n",
      "Requirement already satisfied: python-dateutil>=2.8.1 in /usr/local/lib/python3.8/dist-packages (from pandas==1.4.3) (2.8.2)\n",
      "Requirement already satisfied: pytz>=2020.1 in /usr/local/lib/python3.8/dist-packages (from pandas==1.4.3) (2022.7)\n",
      "Requirement already satisfied: numpy>=1.18.5 in /usr/local/lib/python3.8/dist-packages (from pandas==1.4.3) (1.21.6)\n",
      "Requirement already satisfied: six>=1.5 in /usr/local/lib/python3.8/dist-packages (from python-dateutil>=2.8.1->pandas==1.4.3) (1.15.0)\n"
     ]
    }
   ],
   "source": [
    "%pip install pandas==1.4.3"
   ]
  },
  {
   "cell_type": "code",
   "execution_count": 3,
   "metadata": {
    "executionInfo": {
     "elapsed": 10528,
     "status": "ok",
     "timestamp": 1674874492954,
     "user": {
      "displayName": "Silas Liu",
      "userId": "11566300852536570101"
     },
     "user_tz": 180
    },
    "id": "V1aMkW3wwm4b"
   },
   "outputs": [],
   "source": [
    "import pandas as pd\n",
    "import numpy as np\n",
    "from statsmodels.graphics.mosaicplot import mosaic\n",
    "import matplotlib.pyplot as plt\n",
    "import tensorflow as tf\n",
    "from tensorflow.keras.layers import Dense, Input, Embedding, Flatten, Subtract\n",
    "from tensorflow.keras.models import Model\n",
    "from tensorflow.keras.callbacks import EarlyStopping"
   ]
  },
  {
   "cell_type": "code",
   "execution_count": 4,
   "metadata": {
    "executionInfo": {
     "elapsed": 17,
     "status": "ok",
     "timestamp": 1674874492957,
     "user": {
      "displayName": "Silas Liu",
      "userId": "11566300852536570101"
     },
     "user_tz": 180
    },
    "id": "Y1wr2OYWkSOm"
   },
   "outputs": [],
   "source": [
    "tf.config.run_functions_eagerly(True)"
   ]
  },
  {
   "cell_type": "code",
   "execution_count": 5,
   "metadata": {
    "executionInfo": {
     "elapsed": 16,
     "status": "ok",
     "timestamp": 1674874492958,
     "user": {
      "displayName": "Silas Liu",
      "userId": "11566300852536570101"
     },
     "user_tz": 180
    },
    "id": "14j09q7WyEp2"
   },
   "outputs": [],
   "source": [
    "np.random.seed(123)"
   ]
  },
  {
   "cell_type": "code",
   "execution_count": 6,
   "metadata": {
    "executionInfo": {
     "elapsed": 666,
     "status": "ok",
     "timestamp": 1674874493609,
     "user": {
      "displayName": "Silas Liu",
      "userId": "11566300852536570101"
     },
     "user_tz": 180
    },
    "id": "D7mMz-gYwsGU"
   },
   "outputs": [],
   "source": [
    "df_pk = pd.read_pickle('/content/df_pk_1.pkl')\n",
    "samples = pd.read_pickle('/content/samples.pkl')\n",
    "battles = pd.read_csv('/content/Pokemon_matchups_V2.csv')"
   ]
  },
  {
   "cell_type": "code",
   "execution_count": 7,
   "metadata": {
    "executionInfo": {
     "elapsed": 10,
     "status": "ok",
     "timestamp": 1674874493611,
     "user": {
      "displayName": "Silas Liu",
      "userId": "11566300852536570101"
     },
     "user_tz": 180
    },
    "id": "gZ-M2BKfx52z"
   },
   "outputs": [],
   "source": [
    "poke_names = list(df_pk['name_x'].unique())"
   ]
  },
  {
   "cell_type": "code",
   "execution_count": 8,
   "metadata": {
    "executionInfo": {
     "elapsed": 40502,
     "status": "ok",
     "timestamp": 1674874534106,
     "user": {
      "displayName": "Silas Liu",
      "userId": "11566300852536570101"
     },
     "user_tz": 180
    },
    "id": "pSPR-3KzyY7f"
   },
   "outputs": [],
   "source": [
    "X = tf.zeros([1, 167, 110], tf.int64)\n",
    "\n",
    "for poke in poke_names:\n",
    "  if poke != 'mew':\n",
    "    idx = df_pk[df_pk['name_x'] == poke].index\n",
    "    pkmn = samples.loc[idx]\n",
    "    pkmn = pkmn.astype(int)\n",
    "    pkmn.iloc[:, 30] = pkmn.iloc[:, 30] + 50\n",
    "    pkmn.iloc[:, 32] = pkmn.iloc[:, 32] + 33\n",
    "    pkmn = tf.reshape(pkmn, (1, -1, 110))\n",
    "    pkmn = tf.concat([pkmn, tf.zeros([1, 167-pkmn.shape[1], 110], tf.int64)], axis=1)\n",
    "  else:\n",
    "    pkmn = tf.zeros([1, 167, 110], tf.int64)\n",
    "\n",
    "  X = tf.concat([X, pkmn], axis=0)"
   ]
  },
  {
   "cell_type": "code",
   "execution_count": 9,
   "metadata": {
    "colab": {
     "base_uri": "https://localhost:8080/"
    },
    "executionInfo": {
     "elapsed": 37,
     "status": "ok",
     "timestamp": 1674874534110,
     "user": {
      "displayName": "Silas Liu",
      "userId": "11566300852536570101"
     },
     "user_tz": 180
    },
    "id": "dZCFxS9S3jbY",
    "outputId": "50b11f1e-be0f-4f50-be48-eca8f1644516"
   },
   "outputs": [
    {
     "data": {
      "text/plain": [
       "TensorShape([1216, 167, 110])"
      ]
     },
     "execution_count": 9,
     "metadata": {},
     "output_type": "execute_result"
    }
   ],
   "source": [
    "X.shape"
   ]
  },
  {
   "cell_type": "code",
   "execution_count": 10,
   "metadata": {
    "executionInfo": {
     "elapsed": 33,
     "status": "ok",
     "timestamp": 1674874534114,
     "user": {
      "displayName": "Silas Liu",
      "userId": "11566300852536570101"
     },
     "user_tz": 180
    },
    "id": "irLlISJWfcLE"
   },
   "outputs": [],
   "source": [
    "del df_pk"
   ]
  },
  {
   "cell_type": "markdown",
   "metadata": {
    "id": "WOFKQd_n2Bwq"
   },
   "source": [
    "# Inputs preparation"
   ]
  },
  {
   "cell_type": "code",
   "execution_count": 11,
   "metadata": {
    "colab": {
     "base_uri": "https://localhost:8080/",
     "height": 424
    },
    "executionInfo": {
     "elapsed": 32,
     "status": "ok",
     "timestamp": 1674874534116,
     "user": {
      "displayName": "Silas Liu",
      "userId": "11566300852536570101"
     },
     "user_tz": 180
    },
    "id": "nS4f4_XY7LxQ",
    "outputId": "61774fd5-374f-4a0c-c150-d4c00babefb0"
   },
   "outputs": [
    {
     "data": {
      "text/html": [
       "\n",
       "  <div id=\"df-dc9e2ce1-ed96-444c-9c2b-8756c28d4bb9\">\n",
       "    <div class=\"colab-df-container\">\n",
       "      <div>\n",
       "<style scoped>\n",
       "    .dataframe tbody tr th:only-of-type {\n",
       "        vertical-align: middle;\n",
       "    }\n",
       "\n",
       "    .dataframe tbody tr th {\n",
       "        vertical-align: top;\n",
       "    }\n",
       "\n",
       "    .dataframe thead th {\n",
       "        text-align: right;\n",
       "    }\n",
       "</style>\n",
       "<table border=\"1\" class=\"dataframe\">\n",
       "  <thead>\n",
       "    <tr style=\"text-align: right;\">\n",
       "      <th></th>\n",
       "      <th>N_Pokemon_1</th>\n",
       "      <th>N_Pokemon_2</th>\n",
       "      <th>Winner</th>\n",
       "    </tr>\n",
       "  </thead>\n",
       "  <tbody>\n",
       "    <tr>\n",
       "      <th>0</th>\n",
       "      <td>1</td>\n",
       "      <td>617</td>\n",
       "      <td>1</td>\n",
       "    </tr>\n",
       "    <tr>\n",
       "      <th>1</th>\n",
       "      <td>2</td>\n",
       "      <td>168</td>\n",
       "      <td>1</td>\n",
       "    </tr>\n",
       "    <tr>\n",
       "      <th>2</th>\n",
       "      <td>3</td>\n",
       "      <td>267</td>\n",
       "      <td>0</td>\n",
       "    </tr>\n",
       "    <tr>\n",
       "      <th>3</th>\n",
       "      <td>3</td>\n",
       "      <td>15</td>\n",
       "      <td>0</td>\n",
       "    </tr>\n",
       "    <tr>\n",
       "      <th>5</th>\n",
       "      <td>5</td>\n",
       "      <td>412</td>\n",
       "      <td>0</td>\n",
       "    </tr>\n",
       "    <tr>\n",
       "      <th>...</th>\n",
       "      <td>...</td>\n",
       "      <td>...</td>\n",
       "      <td>...</td>\n",
       "    </tr>\n",
       "    <tr>\n",
       "      <th>18509</th>\n",
       "      <td>396</td>\n",
       "      <td>16</td>\n",
       "      <td>0</td>\n",
       "    </tr>\n",
       "    <tr>\n",
       "      <th>18510</th>\n",
       "      <td>445</td>\n",
       "      <td>248</td>\n",
       "      <td>0</td>\n",
       "    </tr>\n",
       "    <tr>\n",
       "      <th>18511</th>\n",
       "      <td>252</td>\n",
       "      <td>114</td>\n",
       "      <td>1</td>\n",
       "    </tr>\n",
       "    <tr>\n",
       "      <th>18512</th>\n",
       "      <td>253</td>\n",
       "      <td>212</td>\n",
       "      <td>1</td>\n",
       "    </tr>\n",
       "    <tr>\n",
       "      <th>18513</th>\n",
       "      <td>403</td>\n",
       "      <td>310</td>\n",
       "      <td>1</td>\n",
       "    </tr>\n",
       "  </tbody>\n",
       "</table>\n",
       "<p>12060 rows × 3 columns</p>\n",
       "</div>\n",
       "      <button class=\"colab-df-convert\" onclick=\"convertToInteractive('df-dc9e2ce1-ed96-444c-9c2b-8756c28d4bb9')\"\n",
       "              title=\"Convert this dataframe to an interactive table.\"\n",
       "              style=\"display:none;\">\n",
       "        \n",
       "  <svg xmlns=\"http://www.w3.org/2000/svg\" height=\"24px\"viewBox=\"0 0 24 24\"\n",
       "       width=\"24px\">\n",
       "    <path d=\"M0 0h24v24H0V0z\" fill=\"none\"/>\n",
       "    <path d=\"M18.56 5.44l.94 2.06.94-2.06 2.06-.94-2.06-.94-.94-2.06-.94 2.06-2.06.94zm-11 1L8.5 8.5l.94-2.06 2.06-.94-2.06-.94L8.5 2.5l-.94 2.06-2.06.94zm10 10l.94 2.06.94-2.06 2.06-.94-2.06-.94-.94-2.06-.94 2.06-2.06.94z\"/><path d=\"M17.41 7.96l-1.37-1.37c-.4-.4-.92-.59-1.43-.59-.52 0-1.04.2-1.43.59L10.3 9.45l-7.72 7.72c-.78.78-.78 2.05 0 2.83L4 21.41c.39.39.9.59 1.41.59.51 0 1.02-.2 1.41-.59l7.78-7.78 2.81-2.81c.8-.78.8-2.07 0-2.86zM5.41 20L4 18.59l7.72-7.72 1.47 1.35L5.41 20z\"/>\n",
       "  </svg>\n",
       "      </button>\n",
       "      \n",
       "  <style>\n",
       "    .colab-df-container {\n",
       "      display:flex;\n",
       "      flex-wrap:wrap;\n",
       "      gap: 12px;\n",
       "    }\n",
       "\n",
       "    .colab-df-convert {\n",
       "      background-color: #E8F0FE;\n",
       "      border: none;\n",
       "      border-radius: 50%;\n",
       "      cursor: pointer;\n",
       "      display: none;\n",
       "      fill: #1967D2;\n",
       "      height: 32px;\n",
       "      padding: 0 0 0 0;\n",
       "      width: 32px;\n",
       "    }\n",
       "\n",
       "    .colab-df-convert:hover {\n",
       "      background-color: #E2EBFA;\n",
       "      box-shadow: 0px 1px 2px rgba(60, 64, 67, 0.3), 0px 1px 3px 1px rgba(60, 64, 67, 0.15);\n",
       "      fill: #174EA6;\n",
       "    }\n",
       "\n",
       "    [theme=dark] .colab-df-convert {\n",
       "      background-color: #3B4455;\n",
       "      fill: #D2E3FC;\n",
       "    }\n",
       "\n",
       "    [theme=dark] .colab-df-convert:hover {\n",
       "      background-color: #434B5C;\n",
       "      box-shadow: 0px 1px 3px 1px rgba(0, 0, 0, 0.15);\n",
       "      filter: drop-shadow(0px 1px 2px rgba(0, 0, 0, 0.3));\n",
       "      fill: #FFFFFF;\n",
       "    }\n",
       "  </style>\n",
       "\n",
       "      <script>\n",
       "        const buttonEl =\n",
       "          document.querySelector('#df-dc9e2ce1-ed96-444c-9c2b-8756c28d4bb9 button.colab-df-convert');\n",
       "        buttonEl.style.display =\n",
       "          google.colab.kernel.accessAllowed ? 'block' : 'none';\n",
       "\n",
       "        async function convertToInteractive(key) {\n",
       "          const element = document.querySelector('#df-dc9e2ce1-ed96-444c-9c2b-8756c28d4bb9');\n",
       "          const dataTable =\n",
       "            await google.colab.kernel.invokeFunction('convertToInteractive',\n",
       "                                                     [key], {});\n",
       "          if (!dataTable) return;\n",
       "\n",
       "          const docLinkHtml = 'Like what you see? Visit the ' +\n",
       "            '<a target=\"_blank\" href=https://colab.research.google.com/notebooks/data_table.ipynb>data table notebook</a>'\n",
       "            + ' to learn more about interactive tables.';\n",
       "          element.innerHTML = '';\n",
       "          dataTable['output_type'] = 'display_data';\n",
       "          await google.colab.output.renderOutput(dataTable, element);\n",
       "          const docLink = document.createElement('div');\n",
       "          docLink.innerHTML = docLinkHtml;\n",
       "          element.appendChild(docLink);\n",
       "        }\n",
       "      </script>\n",
       "    </div>\n",
       "  </div>\n",
       "  "
      ],
      "text/plain": [
       "       N_Pokemon_1  N_Pokemon_2  Winner\n",
       "0                1          617       1\n",
       "1                2          168       1\n",
       "2                3          267       0\n",
       "3                3           15       0\n",
       "5                5          412       0\n",
       "...            ...          ...     ...\n",
       "18509          396           16       0\n",
       "18510          445          248       0\n",
       "18511          252          114       1\n",
       "18512          253          212       1\n",
       "18513          403          310       1\n",
       "\n",
       "[12060 rows x 3 columns]"
      ]
     },
     "execution_count": 11,
     "metadata": {},
     "output_type": "execute_result"
    }
   ],
   "source": [
    "battles = pd.read_csv('/content/Pokemon_matchups_V2.csv')\n",
    "battles = battles[['N_Pokemon_1', 'N_Pokemon_2', 'Winner']]\n",
    "battles = battles.drop(battles[battles['N_Pokemon_1'] == 151].index)\n",
    "battles = battles.drop(battles[battles['N_Pokemon_2'] == 151].index)\n",
    "battles = battles[(battles['N_Pokemon_1'] <= 721) & (battles['N_Pokemon_2'] <= 721)]\n",
    "idx_train = battles.index\n",
    "battles"
   ]
  },
  {
   "cell_type": "code",
   "execution_count": 12,
   "metadata": {
    "executionInfo": {
     "elapsed": 7605,
     "status": "ok",
     "timestamp": 1674874551171,
     "user": {
      "displayName": "Silas Liu",
      "userId": "11566300852536570101"
     },
     "user_tz": 180
    },
    "id": "4_6xpDcofsLP"
   },
   "outputs": [],
   "source": [
    "in_1 = battles.apply(lambda row: X[row['N_Pokemon_1'], :, :].numpy(), axis=1)\n",
    "in_1 = np.stack(in_1, axis=0)\n",
    "\n",
    "in_2 = battles.apply(lambda row: X[row['N_Pokemon_2'], :, :].numpy(), axis=1)\n",
    "in_2 = np.stack(in_2, axis=0)\n",
    "\n",
    "labels = np.array(battles['Winner'])"
   ]
  },
  {
   "cell_type": "code",
   "execution_count": 13,
   "metadata": {
    "executionInfo": {
     "elapsed": 13,
     "status": "ok",
     "timestamp": 1674874551175,
     "user": {
      "displayName": "Silas Liu",
      "userId": "11566300852536570101"
     },
     "user_tz": 180
    },
    "id": "iuhQdpT0gkHn"
   },
   "outputs": [],
   "source": [
    "del X\n",
    "del pkmn\n",
    "del samples\n",
    "del battles"
   ]
  },
  {
   "cell_type": "markdown",
   "metadata": {
    "id": "4NCLv6iCg1oH"
   },
   "source": [
    "# Model"
   ]
  },
  {
   "cell_type": "code",
   "execution_count": 14,
   "metadata": {
    "executionInfo": {
     "elapsed": 342,
     "status": "ok",
     "timestamp": 1674874634608,
     "user": {
      "displayName": "Silas Liu",
      "userId": "11566300852536570101"
     },
     "user_tz": 180
    },
    "id": "nYKyg2I3o1BE"
   },
   "outputs": [],
   "source": [
    "input_tensor_emb = Input((167, 110))\n",
    "layer_1_emb = Embedding(input_dim=256,\n",
    "                        output_dim=16)(input_tensor_emb)\n",
    "layer_2_emb = Flatten()(layer_1_emb)\n",
    "emb_model = Model(input_tensor_emb, layer_2_emb, name='Embedding_Model')\n",
    "\n",
    "pkmn_input_1 = Input((167, 110), name='Input_Pokemon_1')\n",
    "pkmn_input_2 = Input((167, 110), name='Input_Pokemon_2')\n",
    "\n",
    "layer_pkmn_1 = emb_model(pkmn_input_1)\n",
    "layer_pkmn_2 = emb_model(pkmn_input_2)\n",
    "subtract = Subtract()([layer_pkmn_1, layer_pkmn_2])\n",
    "layer_3 = Dense(16, activation='relu', name='Dense')(subtract)\n",
    "out_layer = Dense(1, activation='sigmoid', name='Output')(layer_3)\n",
    "\n",
    "model = Model([pkmn_input_1, pkmn_input_2], out_layer, name='Battle_Model')"
   ]
  },
  {
   "cell_type": "code",
   "execution_count": 15,
   "metadata": {
    "colab": {
     "base_uri": "https://localhost:8080/"
    },
    "executionInfo": {
     "elapsed": 407,
     "status": "ok",
     "timestamp": 1674874637470,
     "user": {
      "displayName": "Silas Liu",
      "userId": "11566300852536570101"
     },
     "user_tz": 180
    },
    "id": "DMKj3xyuo09k",
    "outputId": "f271931c-991a-47db-d9c7-1a1cf8ce46fe"
   },
   "outputs": [
    {
     "name": "stdout",
     "output_type": "stream",
     "text": [
      "Model: \"Battle_Model\"\n",
      "__________________________________________________________________________________________________\n",
      " Layer (type)                   Output Shape         Param #     Connected to                     \n",
      "==================================================================================================\n",
      " Input_Pokemon_1 (InputLayer)   [(None, 167, 110)]   0           []                               \n",
      "                                                                                                  \n",
      " Input_Pokemon_2 (InputLayer)   [(None, 167, 110)]   0           []                               \n",
      "                                                                                                  \n",
      " Embedding_Model (Functional)   (None, 293920)       4096        ['Input_Pokemon_1[0][0]',        \n",
      "                                                                  'Input_Pokemon_2[0][0]']        \n",
      "                                                                                                  \n",
      " subtract (Subtract)            (None, 293920)       0           ['Embedding_Model[0][0]',        \n",
      "                                                                  'Embedding_Model[1][0]']        \n",
      "                                                                                                  \n",
      " Dense (Dense)                  (None, 16)           4702736     ['subtract[0][0]']               \n",
      "                                                                                                  \n",
      " Output (Dense)                 (None, 1)            17          ['Dense[0][0]']                  \n",
      "                                                                                                  \n",
      "==================================================================================================\n",
      "Total params: 4,706,849\n",
      "Trainable params: 4,706,849\n",
      "Non-trainable params: 0\n",
      "__________________________________________________________________________________________________\n"
     ]
    }
   ],
   "source": [
    "model.summary()"
   ]
  },
  {
   "cell_type": "code",
   "execution_count": 16,
   "metadata": {
    "colab": {
     "base_uri": "https://localhost:8080/",
     "height": 533
    },
    "executionInfo": {
     "elapsed": 1038,
     "status": "ok",
     "timestamp": 1674874642316,
     "user": {
      "displayName": "Silas Liu",
      "userId": "11566300852536570101"
     },
     "user_tz": 180
    },
    "id": "Kvgcx0SQJLzK",
    "outputId": "ef7e34ae-ba5e-4c2f-e31d-1168b8eee69e"
   },
   "outputs": [
    {
     "data": {
      "image/png": "[encoded data removed]",
      "text/plain": [
       "<IPython.core.display.Image object>"
      ]
     },
     "execution_count": 16,
     "metadata": {},
     "output_type": "execute_result"
    }
   ],
   "source": [
    "tf.keras.utils.plot_model(model, show_shapes=True, show_layer_names=True)"
   ]
  },
  {
   "cell_type": "code",
   "execution_count": 17,
   "metadata": {
    "executionInfo": {
     "elapsed": 9,
     "status": "ok",
     "timestamp": 1674874643908,
     "user": {
      "displayName": "Silas Liu",
      "userId": "11566300852536570101"
     },
     "user_tz": 180
    },
    "id": "7t-J11jCo05v"
   },
   "outputs": [],
   "source": [
    "early_stopping_monitor = EarlyStopping(patience=3)\n",
    "model.compile(optimizer='adam', loss='binary_crossentropy', metrics=['accuracy'])"
   ]
  },
  {
   "cell_type": "code",
   "execution_count": 18,
   "metadata": {
    "colab": {
     "base_uri": "https://localhost:8080/"
    },
    "executionInfo": {
     "elapsed": 172356,
     "status": "ok",
     "timestamp": 1674874816733,
     "user": {
      "displayName": "Silas Liu",
      "userId": "11566300852536570101"
     },
     "user_tz": 180
    },
    "id": "5HwJSw98ghUy",
    "outputId": "20836f9b-e2ce-42a2-fcd2-e158368e60cc"
   },
   "outputs": [
    {
     "name": "stdout",
     "output_type": "stream",
     "text": [
      "Epoch 1/10\n"
     ]
    },
    {
     "name": "stderr",
     "output_type": "stream",
     "text": [
      "/usr/local/lib/python3.8/dist-packages/tensorflow/python/data/ops/structured_function.py:264: UserWarning: Even though the `tf.config.experimental_run_functions_eagerly` option is set, this option does not apply to tf.data functions. To force eager execution of tf.data functions, please use `tf.data.experimental.enable_debug_mode()`.\n",
      "  warnings.warn(\n"
     ]
    },
    {
     "name": "stdout",
     "output_type": "stream",
     "text": [
      "302/302 [==============================] - 43s 141ms/step - loss: 0.3154 - accuracy: 0.8551 - val_loss: 0.3407 - val_accuracy: 0.8425\n",
      "Epoch 2/10\n",
      "302/302 [==============================] - 44s 146ms/step - loss: 0.2182 - accuracy: 0.9071 - val_loss: 0.3416 - val_accuracy: 0.8507\n",
      "Epoch 3/10\n",
      "302/302 [==============================] - 43s 142ms/step - loss: 0.1825 - accuracy: 0.9223 - val_loss: 0.3578 - val_accuracy: 0.8541\n",
      "Epoch 4/10\n",
      "302/302 [==============================] - 42s 140ms/step - loss: 0.1640 - accuracy: 0.9283 - val_loss: 0.3745 - val_accuracy: 0.8524\n"
     ]
    },
    {
     "data": {
      "text/plain": [
       "<keras.callbacks.History at 0x7f492eb3f880>"
      ]
     },
     "execution_count": 18,
     "metadata": {},
     "output_type": "execute_result"
    }
   ],
   "source": [
    "model.fit([in_1, in_2], labels, epochs=10, validation_split=0.2,\n",
    "          callbacks=[early_stopping_monitor])"
   ]
  },
  {
   "cell_type": "code",
   "execution_count": 19,
   "metadata": {
    "colab": {
     "base_uri": "https://localhost:8080/"
    },
    "executionInfo": {
     "elapsed": 21003,
     "status": "ok",
     "timestamp": 1674874847745,
     "user": {
      "displayName": "Silas Liu",
      "userId": "11566300852536570101"
     },
     "user_tz": 180
    },
    "id": "NRge_l7u97vS",
    "outputId": "f7c62ce5-3d4a-4f66-9d93-6664ffefd553"
   },
   "outputs": [
    {
     "name": "stderr",
     "output_type": "stream",
     "text": [
      "WARNING:absl:Function `_wrapped_model` contains input name(s) Input_Pokemon_1, Input_Pokemon_2 with unsupported characters which will be renamed to input_pokemon_1, input_pokemon_2 in the SavedModel.\n"
     ]
    }
   ],
   "source": [
    "np.save('/content/drive/MyDrive/Pokemon_data/idx_train.npy', idx_train)\n",
    "model.save('/content/drive/MyDrive/Pokemon_data/model')"
   ]
  },
  {
   "cell_type": "markdown",
   "metadata": {
    "id": "up9cMqW_sXIk"
   },
   "source": [
    "# Prediction on new data"
   ]
  },
  {
   "cell_type": "code",
   "execution_count": 1,
   "metadata": {
    "colab": {
     "base_uri": "https://localhost:8080/"
    },
    "executionInfo": {
     "elapsed": 4141,
     "status": "ok",
     "timestamp": 1674874868473,
     "user": {
      "displayName": "Silas Liu",
      "userId": "11566300852536570101"
     },
     "user_tz": 180
    },
    "id": "HEwOzrUQr1bh",
    "outputId": "1e57a394-44ea-45f5-f57d-bc7085132ae4"
   },
   "outputs": [
    {
     "name": "stdout",
     "output_type": "stream",
     "text": [
      "Mounted at /content/drive\n"
     ]
    }
   ],
   "source": [
    "from google.colab import drive\n",
    "drive.mount('/content/drive', force_remount=True)"
   ]
  },
  {
   "cell_type": "code",
   "execution_count": 2,
   "metadata": {
    "executionInfo": {
     "elapsed": 890,
     "status": "ok",
     "timestamp": 1674874869355,
     "user": {
      "displayName": "Silas Liu",
      "userId": "11566300852536570101"
     },
     "user_tz": 180
    },
    "id": "p47IjplPseWG"
   },
   "outputs": [],
   "source": [
    "!cp -R /content/drive/MyDrive/Pokemon_data/df_pk_1.pkl /content\n",
    "!cp /content/drive/MyDrive/Pokemon_data/samples.pkl ./\n",
    "!cp /content/drive/MyDrive/Pokemon_data/Pokemon_matchups_V2.csv ./\n",
    "!cp /content/drive/MyDrive/Pokemon_data/idx_train.npy ./\n",
    "!cp -r /content/drive/MyDrive/Pokemon_data/model ./"
   ]
  },
  {
   "cell_type": "code",
   "execution_count": 3,
   "metadata": {
    "executionInfo": {
     "elapsed": 5187,
     "status": "ok",
     "timestamp": 1674874879923,
     "user": {
      "displayName": "Silas Liu",
      "userId": "11566300852536570101"
     },
     "user_tz": 180
    },
    "id": "RTewB13y-1LG"
   },
   "outputs": [],
   "source": [
    "import pandas as pd\n",
    "import numpy as np\n",
    "from statsmodels.graphics.mosaicplot import mosaic\n",
    "import matplotlib.pyplot as plt\n",
    "import tensorflow as tf\n",
    "from tensorflow.keras.layers import Dense, Input, Embedding, Flatten, Subtract\n",
    "from tensorflow.keras.models import Model\n",
    "from tensorflow.keras.callbacks import EarlyStopping"
   ]
  },
  {
   "cell_type": "code",
   "execution_count": 4,
   "metadata": {
    "executionInfo": {
     "elapsed": 15,
     "status": "ok",
     "timestamp": 1674874879926,
     "user": {
      "displayName": "Silas Liu",
      "userId": "11566300852536570101"
     },
     "user_tz": 180
    },
    "id": "o8JNnvX5-5BF"
   },
   "outputs": [],
   "source": [
    "tf.config.run_functions_eagerly(True)"
   ]
  },
  {
   "cell_type": "code",
   "execution_count": 5,
   "metadata": {
    "executionInfo": {
     "elapsed": 2255,
     "status": "ok",
     "timestamp": 1674874882169,
     "user": {
      "displayName": "Silas Liu",
      "userId": "11566300852536570101"
     },
     "user_tz": 180
    },
    "id": "GqXhxrJ_-9AQ"
   },
   "outputs": [],
   "source": [
    "df_pk = pd.read_pickle('/content/df_pk_1.pkl')\n",
    "samples = pd.read_pickle('/content/samples.pkl')\n",
    "battles = pd.read_csv('/content/Pokemon_matchups_V2.csv')\n",
    "model = tf.keras.models.load_model('model')"
   ]
  },
  {
   "cell_type": "code",
   "execution_count": 6,
   "metadata": {
    "executionInfo": {
     "elapsed": 11,
     "status": "ok",
     "timestamp": 1674874888030,
     "user": {
      "displayName": "Silas Liu",
      "userId": "11566300852536570101"
     },
     "user_tz": 180
    },
    "id": "XerMonU2_DkF"
   },
   "outputs": [],
   "source": [
    "poke_names = list(df_pk['name_x'].unique())"
   ]
  },
  {
   "cell_type": "code",
   "execution_count": 7,
   "metadata": {
    "executionInfo": {
     "elapsed": 34360,
     "status": "ok",
     "timestamp": 1674874922911,
     "user": {
      "displayName": "Silas Liu",
      "userId": "11566300852536570101"
     },
     "user_tz": 180
    },
    "id": "rjr7kipa_QfC"
   },
   "outputs": [],
   "source": [
    "X = tf.zeros([1, 167, 110], tf.int64)\n",
    "\n",
    "for poke in poke_names:\n",
    "  if poke != 'mew':\n",
    "    idx = df_pk[df_pk['name_x'] == poke].index\n",
    "    pkmn = samples.loc[idx]\n",
    "    pkmn = pkmn.astype(int)\n",
    "    pkmn.iloc[:, 30] = pkmn.iloc[:, 30] + 50\n",
    "    pkmn.iloc[:, 32] = pkmn.iloc[:, 32] + 33\n",
    "    pkmn = tf.reshape(pkmn, (1, -1, 110))\n",
    "    pkmn = tf.concat([pkmn, tf.zeros([1, 167-pkmn.shape[1], 110], tf.int64)], axis=1)\n",
    "  else:\n",
    "    pkmn = tf.zeros([1, 167, 110], tf.int64)\n",
    "\n",
    "  X = tf.concat([X, pkmn], axis=0)"
   ]
  },
  {
   "cell_type": "code",
   "execution_count": 8,
   "metadata": {
    "executionInfo": {
     "elapsed": 28,
     "status": "ok",
     "timestamp": 1674874922914,
     "user": {
      "displayName": "Silas Liu",
      "userId": "11566300852536570101"
     },
     "user_tz": 180
    },
    "id": "i8zj1nE0_TUM"
   },
   "outputs": [],
   "source": [
    "del df_pk"
   ]
  },
  {
   "cell_type": "markdown",
   "metadata": {
    "id": "unLNjdiR_aIw"
   },
   "source": [
    "# Test inputs preparation"
   ]
  },
  {
   "cell_type": "code",
   "execution_count": 9,
   "metadata": {
    "colab": {
     "base_uri": "https://localhost:8080/",
     "height": 424
    },
    "executionInfo": {
     "elapsed": 29,
     "status": "ok",
     "timestamp": 1674874922918,
     "user": {
      "displayName": "Silas Liu",
      "userId": "11566300852536570101"
     },
     "user_tz": 180
    },
    "id": "P-UdPn6h_WiC",
    "outputId": "73ac8433-b0b2-40f1-bf1e-dc1a9d245708"
   },
   "outputs": [
    {
     "data": {
      "text/html": [
       "\n",
       "  <div id=\"df-2422bdb6-047d-4bc0-91cc-dcc3fd34bbdf\">\n",
       "    <div class=\"colab-df-container\">\n",
       "      <div>\n",
       "<style scoped>\n",
       "    .dataframe tbody tr th:only-of-type {\n",
       "        vertical-align: middle;\n",
       "    }\n",
       "\n",
       "    .dataframe tbody tr th {\n",
       "        vertical-align: top;\n",
       "    }\n",
       "\n",
       "    .dataframe thead th {\n",
       "        text-align: right;\n",
       "    }\n",
       "</style>\n",
       "<table border=\"1\" class=\"dataframe\">\n",
       "  <thead>\n",
       "    <tr style=\"text-align: right;\">\n",
       "      <th></th>\n",
       "      <th>N_Pokemon_1</th>\n",
       "      <th>N_Pokemon_2</th>\n",
       "      <th>Winner</th>\n",
       "    </tr>\n",
       "  </thead>\n",
       "  <tbody>\n",
       "    <tr>\n",
       "      <th>4</th>\n",
       "      <td>4</td>\n",
       "      <td>824</td>\n",
       "      <td>0</td>\n",
       "    </tr>\n",
       "    <tr>\n",
       "      <th>7</th>\n",
       "      <td>6</td>\n",
       "      <td>794</td>\n",
       "      <td>0</td>\n",
       "    </tr>\n",
       "    <tr>\n",
       "      <th>10</th>\n",
       "      <td>8</td>\n",
       "      <td>737</td>\n",
       "      <td>1</td>\n",
       "    </tr>\n",
       "    <tr>\n",
       "      <th>13</th>\n",
       "      <td>10</td>\n",
       "      <td>742</td>\n",
       "      <td>1</td>\n",
       "    </tr>\n",
       "    <tr>\n",
       "      <th>14</th>\n",
       "      <td>11</td>\n",
       "      <td>825</td>\n",
       "      <td>1</td>\n",
       "    </tr>\n",
       "    <tr>\n",
       "      <th>...</th>\n",
       "      <td>...</td>\n",
       "      <td>...</td>\n",
       "      <td>...</td>\n",
       "    </tr>\n",
       "    <tr>\n",
       "      <th>18501</th>\n",
       "      <td>889</td>\n",
       "      <td>60</td>\n",
       "      <td>0</td>\n",
       "    </tr>\n",
       "    <tr>\n",
       "      <th>18502</th>\n",
       "      <td>890</td>\n",
       "      <td>61</td>\n",
       "      <td>0</td>\n",
       "    </tr>\n",
       "    <tr>\n",
       "      <th>18503</th>\n",
       "      <td>890</td>\n",
       "      <td>62</td>\n",
       "      <td>0</td>\n",
       "    </tr>\n",
       "    <tr>\n",
       "      <th>18506</th>\n",
       "      <td>25</td>\n",
       "      <td>877</td>\n",
       "      <td>1</td>\n",
       "    </tr>\n",
       "    <tr>\n",
       "      <th>18514</th>\n",
       "      <td>887</td>\n",
       "      <td>376</td>\n",
       "      <td>1</td>\n",
       "    </tr>\n",
       "  </tbody>\n",
       "</table>\n",
       "<p>6424 rows × 3 columns</p>\n",
       "</div>\n",
       "      <button class=\"colab-df-convert\" onclick=\"convertToInteractive('df-2422bdb6-047d-4bc0-91cc-dcc3fd34bbdf')\"\n",
       "              title=\"Convert this dataframe to an interactive table.\"\n",
       "              style=\"display:none;\">\n",
       "        \n",
       "  <svg xmlns=\"http://www.w3.org/2000/svg\" height=\"24px\"viewBox=\"0 0 24 24\"\n",
       "       width=\"24px\">\n",
       "    <path d=\"M0 0h24v24H0V0z\" fill=\"none\"/>\n",
       "    <path d=\"M18.56 5.44l.94 2.06.94-2.06 2.06-.94-2.06-.94-.94-2.06-.94 2.06-2.06.94zm-11 1L8.5 8.5l.94-2.06 2.06-.94-2.06-.94L8.5 2.5l-.94 2.06-2.06.94zm10 10l.94 2.06.94-2.06 2.06-.94-2.06-.94-.94-2.06-.94 2.06-2.06.94z\"/><path d=\"M17.41 7.96l-1.37-1.37c-.4-.4-.92-.59-1.43-.59-.52 0-1.04.2-1.43.59L10.3 9.45l-7.72 7.72c-.78.78-.78 2.05 0 2.83L4 21.41c.39.39.9.59 1.41.59.51 0 1.02-.2 1.41-.59l7.78-7.78 2.81-2.81c.8-.78.8-2.07 0-2.86zM5.41 20L4 18.59l7.72-7.72 1.47 1.35L5.41 20z\"/>\n",
       "  </svg>\n",
       "      </button>\n",
       "      \n",
       "  <style>\n",
       "    .colab-df-container {\n",
       "      display:flex;\n",
       "      flex-wrap:wrap;\n",
       "      gap: 12px;\n",
       "    }\n",
       "\n",
       "    .colab-df-convert {\n",
       "      background-color: #E8F0FE;\n",
       "      border: none;\n",
       "      border-radius: 50%;\n",
       "      cursor: pointer;\n",
       "      display: none;\n",
       "      fill: #1967D2;\n",
       "      height: 32px;\n",
       "      padding: 0 0 0 0;\n",
       "      width: 32px;\n",
       "    }\n",
       "\n",
       "    .colab-df-convert:hover {\n",
       "      background-color: #E2EBFA;\n",
       "      box-shadow: 0px 1px 2px rgba(60, 64, 67, 0.3), 0px 1px 3px 1px rgba(60, 64, 67, 0.15);\n",
       "      fill: #174EA6;\n",
       "    }\n",
       "\n",
       "    [theme=dark] .colab-df-convert {\n",
       "      background-color: #3B4455;\n",
       "      fill: #D2E3FC;\n",
       "    }\n",
       "\n",
       "    [theme=dark] .colab-df-convert:hover {\n",
       "      background-color: #434B5C;\n",
       "      box-shadow: 0px 1px 3px 1px rgba(0, 0, 0, 0.15);\n",
       "      filter: drop-shadow(0px 1px 2px rgba(0, 0, 0, 0.3));\n",
       "      fill: #FFFFFF;\n",
       "    }\n",
       "  </style>\n",
       "\n",
       "      <script>\n",
       "        const buttonEl =\n",
       "          document.querySelector('#df-2422bdb6-047d-4bc0-91cc-dcc3fd34bbdf button.colab-df-convert');\n",
       "        buttonEl.style.display =\n",
       "          google.colab.kernel.accessAllowed ? 'block' : 'none';\n",
       "\n",
       "        async function convertToInteractive(key) {\n",
       "          const element = document.querySelector('#df-2422bdb6-047d-4bc0-91cc-dcc3fd34bbdf');\n",
       "          const dataTable =\n",
       "            await google.colab.kernel.invokeFunction('convertToInteractive',\n",
       "                                                     [key], {});\n",
       "          if (!dataTable) return;\n",
       "\n",
       "          const docLinkHtml = 'Like what you see? Visit the ' +\n",
       "            '<a target=\"_blank\" href=https://colab.research.google.com/notebooks/data_table.ipynb>data table notebook</a>'\n",
       "            + ' to learn more about interactive tables.';\n",
       "          element.innerHTML = '';\n",
       "          dataTable['output_type'] = 'display_data';\n",
       "          await google.colab.output.renderOutput(dataTable, element);\n",
       "          const docLink = document.createElement('div');\n",
       "          docLink.innerHTML = docLinkHtml;\n",
       "          element.appendChild(docLink);\n",
       "        }\n",
       "      </script>\n",
       "    </div>\n",
       "  </div>\n",
       "  "
      ],
      "text/plain": [
       "       N_Pokemon_1  N_Pokemon_2  Winner\n",
       "4                4          824       0\n",
       "7                6          794       0\n",
       "10               8          737       1\n",
       "13              10          742       1\n",
       "14              11          825       1\n",
       "...            ...          ...     ...\n",
       "18501          889           60       0\n",
       "18502          890           61       0\n",
       "18503          890           62       0\n",
       "18506           25          877       1\n",
       "18514          887          376       1\n",
       "\n",
       "[6424 rows x 3 columns]"
      ]
     },
     "execution_count": 9,
     "metadata": {},
     "output_type": "execute_result"
    }
   ],
   "source": [
    "battles = pd.read_csv('/content/Pokemon_matchups_V2.csv')\n",
    "battles = battles[['N_Pokemon_1', 'N_Pokemon_2', 'Winner']]\n",
    "battles = battles.drop(battles[battles['N_Pokemon_1'] == 151].index)\n",
    "battles = battles.drop(battles[battles['N_Pokemon_2'] == 151].index)\n",
    "battles = battles[(battles['N_Pokemon_1'] > 721) | (battles['N_Pokemon_2'] > 721)]\n",
    "battles"
   ]
  },
  {
   "cell_type": "code",
   "execution_count": 10,
   "metadata": {
    "executionInfo": {
     "elapsed": 5073,
     "status": "ok",
     "timestamp": 1674874956591,
     "user": {
      "displayName": "Silas Liu",
      "userId": "11566300852536570101"
     },
     "user_tz": 180
    },
    "id": "t-_Zwy6sNkaq"
   },
   "outputs": [],
   "source": [
    "in_1 = battles.apply(lambda row: X[row['N_Pokemon_1'], :, :].numpy(), axis=1)\n",
    "in_1 = np.stack(in_1, axis=0)\n",
    "\n",
    "in_2 = battles.apply(lambda row: X[row['N_Pokemon_2'], :, :].numpy(), axis=1)\n",
    "in_2 = np.stack(in_2, axis=0)\n",
    "\n",
    "labels = np.array(battles['Winner'])"
   ]
  },
  {
   "cell_type": "markdown",
   "metadata": {
    "id": "qtPKJxwWN5Jg"
   },
   "source": [
    "# Model Test"
   ]
  },
  {
   "cell_type": "code",
   "execution_count": 11,
   "metadata": {
    "executionInfo": {
     "elapsed": 1072,
     "status": "ok",
     "timestamp": 1674874964196,
     "user": {
      "displayName": "Silas Liu",
      "userId": "11566300852536570101"
     },
     "user_tz": 180
    },
    "id": "RizBigePAkFv"
   },
   "outputs": [],
   "source": [
    "model = tf.keras.models.load_model('model')"
   ]
  },
  {
   "cell_type": "code",
   "execution_count": 12,
   "metadata": {
    "colab": {
     "base_uri": "https://localhost:8080/"
    },
    "executionInfo": {
     "elapsed": 7446,
     "status": "ok",
     "timestamp": 1674874974850,
     "user": {
      "displayName": "Silas Liu",
      "userId": "11566300852536570101"
     },
     "user_tz": 180
    },
    "id": "p2W4ezj7N3A-",
    "outputId": "defd2c93-3429-4775-ef2f-51e2ff2c291b"
   },
   "outputs": [
    {
     "name": "stdout",
     "output_type": "stream",
     "text": [
      "  3/201 [..............................] - ETA: 7s - loss: 0.4776 - accuracy: 0.8542 "
     ]
    },
    {
     "name": "stderr",
     "output_type": "stream",
     "text": [
      "/usr/local/lib/python3.8/dist-packages/tensorflow/python/data/ops/structured_function.py:264: UserWarning: Even though the `tf.config.experimental_run_functions_eagerly` option is set, this option does not apply to tf.data functions. To force eager execution of tf.data functions, please use `tf.data.experimental.enable_debug_mode()`.\n",
      "  warnings.warn(\n"
     ]
    },
    {
     "name": "stdout",
     "output_type": "stream",
     "text": [
      "201/201 [==============================] - 7s 36ms/step - loss: 0.3658 - accuracy: 0.8636\n"
     ]
    },
    {
     "data": {
      "text/plain": [
       "0.8636363744735718"
      ]
     },
     "execution_count": 12,
     "metadata": {},
     "output_type": "execute_result"
    }
   ],
   "source": [
    "model.evaluate([in_1, in_2], labels)[1]"
   ]
  },
  {
   "cell_type": "code",
   "execution_count": 13,
   "metadata": {
    "colab": {
     "base_uri": "https://localhost:8080/"
    },
    "executionInfo": {
     "elapsed": 7628,
     "status": "ok",
     "timestamp": 1674874986898,
     "user": {
      "displayName": "Silas Liu",
      "userId": "11566300852536570101"
     },
     "user_tz": 180
    },
    "id": "RG5wfxTzObev",
    "outputId": "e067dcb2-3c91-4547-d849-03799f404d98"
   },
   "outputs": [
    {
     "name": "stdout",
     "output_type": "stream",
     "text": [
      "201/201 [==============================] - 7s 36ms/step\n"
     ]
    }
   ],
   "source": [
    "predictions = model.predict([in_1, in_2])"
   ]
  },
  {
   "cell_type": "code",
   "execution_count": 14,
   "metadata": {
    "colab": {
     "base_uri": "https://localhost:8080/"
    },
    "executionInfo": {
     "elapsed": 344,
     "status": "ok",
     "timestamp": 1674874998193,
     "user": {
      "displayName": "Silas Liu",
      "userId": "11566300852536570101"
     },
     "user_tz": 180
    },
    "id": "rFNwr9agCmM8",
    "outputId": "2afd94db-dc16-4614-e847-356c567fd894"
   },
   "outputs": [
    {
     "data": {
      "text/plain": [
       "<tf.Tensor: shape=(2, 2), dtype=int32, numpy=\n",
       "array([[3819,  549],\n",
       "       [ 327, 1729]], dtype=int32)>"
      ]
     },
     "execution_count": 14,
     "metadata": {},
     "output_type": "execute_result"
    }
   ],
   "source": [
    "conf_matrix = tf.math.confusion_matrix(labels, np.round(predictions))\n",
    "conf_matrix"
   ]
  },
  {
   "cell_type": "code",
   "execution_count": 15,
   "metadata": {
    "colab": {
     "base_uri": "https://localhost:8080/"
    },
    "executionInfo": {
     "elapsed": 372,
     "status": "ok",
     "timestamp": 1674875004029,
     "user": {
      "displayName": "Silas Liu",
      "userId": "11566300852536570101"
     },
     "user_tz": 180
    },
    "id": "SN8SDgAJNtGj",
    "outputId": "faad977d-b033-495b-f360-a0eb80a31c1e"
   },
   "outputs": [
    {
     "data": {
      "text/plain": [
       "array([[3819,  549],\n",
       "       [ 327, 1729]], dtype=int32)"
      ]
     },
     "execution_count": 15,
     "metadata": {},
     "output_type": "execute_result"
    }
   ],
   "source": [
    "conf_matrix.numpy()"
   ]
  },
  {
   "cell_type": "code",
   "execution_count": 18,
   "metadata": {
    "colab": {
     "base_uri": "https://localhost:8080/",
     "height": 269
    },
    "executionInfo": {
     "elapsed": 354,
     "status": "ok",
     "timestamp": 1674875082686,
     "user": {
      "displayName": "Silas Liu",
      "userId": "11566300852536570101"
     },
     "user_tz": 180
    },
    "id": "0iSGTHcUCtss",
    "outputId": "6c10ea72-4f6d-4737-bfa8-a796fbbc1ba5"
   },
   "outputs": [
    {
     "data": {
      "image/png": "[encoded data removed]",
      "text/plain": [
       "<Figure size 432x288 with 3 Axes>"
      ]
     },
     "metadata": {
      "needs_background": "light"
     },
     "output_type": "display_data"
    }
   ],
   "source": [
    "mosaic(conf_matrix.numpy())\n",
    "plt.show()"
   ]
  },
  {
   "cell_type": "code",
   "execution_count": null,
   "metadata": {
    "id": "asOmEBzBHywg"
   },
   "outputs": [],
   "source": []
  }
 ],
 "metadata": {
  "accelerator": "GPU",
  "colab": {
   "authorship_tag": "ABX9TyM7MMzmVEHBZ6Ja9yqsl2Wr",
   "provenance": []
  },
  "gpuClass": "standard",
  "kernelspec": {
   "display_name": "Python 3 (ipykernel)",
   "language": "python",
   "name": "python3"
  },
  "language_info": {
   "codemirror_mode": {
    "name": "ipython",
    "version": 3
   },
   "file_extension": ".py",
   "mimetype": "text/x-python",
   "name": "python",
   "nbconvert_exporter": "python",
   "pygments_lexer": "ipython3",
   "version": "3.8.10"
  }
 },
 "nbformat": 4,
 "nbformat_minor": 1
}
